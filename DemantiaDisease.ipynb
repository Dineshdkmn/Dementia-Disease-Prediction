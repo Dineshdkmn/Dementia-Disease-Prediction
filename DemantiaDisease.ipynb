{
 "cells": [
  {
   "cell_type": "code",
   "execution_count": 1,
   "id": "8f97ff12",
   "metadata": {},
   "outputs": [
    {
     "ename": "ModuleNotFoundError",
     "evalue": "No module named 'numpy'",
     "output_type": "error",
     "traceback": [
      "\u001b[1;31m---------------------------------------------------------------------------\u001b[0m",
      "\u001b[1;31mModuleNotFoundError\u001b[0m                       Traceback (most recent call last)",
      "\u001b[1;32mc:\\Users\\KAVYA\\Desktop\\Demantia_project\\DemantiaDisease.ipynb Cell 1\u001b[0m line \u001b[0;36m1\n\u001b[1;32m----> <a href='vscode-notebook-cell:/c%3A/Users/KAVYA/Desktop/Demantia_project/DemantiaDisease.ipynb#W0sZmlsZQ%3D%3D?line=0'>1</a>\u001b[0m \u001b[39mimport\u001b[39;00m \u001b[39mnumpy\u001b[39;00m \u001b[39mas\u001b[39;00m \u001b[39mnp\u001b[39;00m\n\u001b[0;32m      <a href='vscode-notebook-cell:/c%3A/Users/KAVYA/Desktop/Demantia_project/DemantiaDisease.ipynb#W0sZmlsZQ%3D%3D?line=1'>2</a>\u001b[0m \u001b[39mimport\u001b[39;00m \u001b[39mpandas\u001b[39;00m \u001b[39mas\u001b[39;00m \u001b[39mpd\u001b[39;00m\n\u001b[0;32m      <a href='vscode-notebook-cell:/c%3A/Users/KAVYA/Desktop/Demantia_project/DemantiaDisease.ipynb#W0sZmlsZQ%3D%3D?line=2'>3</a>\u001b[0m \u001b[39mimport\u001b[39;00m \u001b[39mmatplotlib\u001b[39;00m\u001b[39m.\u001b[39;00m\u001b[39mpyplot\u001b[39;00m \u001b[39mas\u001b[39;00m \u001b[39mplt\u001b[39;00m\n",
      "\u001b[1;31mModuleNotFoundError\u001b[0m: No module named 'numpy'"
     ]
    }
   ],
   "source": [
    "import numpy as np\n",
    "import pandas as pd\n",
    "import matplotlib.pyplot as plt\n",
    "import seaborn as sns\n",
    "import sklearn\n",
    "from sklearn.preprocessing import LabelEncoder\n",
    "from sklearn.model_selection import train_test_split\n",
    "from sklearn.ensemble import RandomForestClassifier\n",
    "from sklearn.neighbors import KNeighborsClassifier\n",
    "from sklearn.linear_model import LogisticRegression\n",
    "from sklearn.svm import SVC\n",
    "from sklearn.naive_bayes import GaussianNB\n",
    "from sklearn import tree\n",
    "from sklearn.metrics import accuracy_score\n",
    "path=\"C:/Users/KAVYA/Desktop/Demantia_project/21_dementiadiseasetypeprediction/dementia_dataset.csv\"\n",
    "df=pd.read_csv(path)\n",
    "print(df.shape)\n",
    "print(df.head())\n",
    "print(df.info())\n",
    "print(df.isna().sum())\n",
    "df['Group'].unique()\n",
    "\n",
    "df1=df.loc[df['Group']=='Converted']\n",
    "df=df.drop(df1.index)\n",
    "df1.head()\n",
    "\n",
    "df1['Last_Visit']=df1.groupby('Subject ID')['Visit'].transform('max')\n",
    "df1.loc[df1['Visit'] < df1['Last_Visit'],'Group']='Nondemented'\n",
    "df1.loc[df1['Visit']==df1['Last_Visit'],'Group']='Demented'\n",
    "df1.drop('Last_Visit',axis=1,inplace=True)\n",
    "df1.head()\n",
    "\n",
    "frames=[df,df1]\n",
    "df=pd.concat(frames)\n",
    "df['Group'].unique()\n",
    "\n",
    "df.rename(columns={'M/F':'Gender'},inplace=True)\n",
    "df.drop(columns=['Subject ID','Hand','Visit','MR Delay'],inplace=True)\n",
    "print(df.isna().sum())\n",
    "\n",
    "df.SES.fillna(df.SES.mode()[0],inplace=True)\n",
    "df.MMSE.fillna(df.MMSE.mean(),inplace=True)\n",
    "print(df.isna().sum())\n",
    "\n",
    "#Creating a count plot with 'Group' on x-axis.\n",
    "sns.countplot(data=df, x='Group', palette='Set2').set(title='Dementia Group');\n",
    "\n",
    "#Visualizing the distribution of 'Group' by 'Gender' using a count plot.\n",
    "sns.countplot(data=df, x='Group', palette='Set2', hue='Gender').set(title = 'Dementia Group by Gender');\n",
    "\n",
    "# Visualizing the distribution of Education for each 'Gender' and 'Group'\n",
    "sns.displot(data=df, x='EDUC', col='Gender', palette='Set2', hue='Group', kind='kde');\n",
    "\n",
    "plt.figure(figsize=(8,6))\n",
    "sns.countplot(df.EDUC, data=df)\n",
    "plt.ylabel('Count')\n",
    "plt.show()\n",
    "\n",
    "# Visualizing the correlation matrix of numeric columns using a heatmap\n",
    "corr_matrix=df.corr()\n",
    "sns.heatmap(corr_matrix, cmap='coolwarm')\n",
    "\n",
    "\n",
    "# Asf and Etiv have a strong negative correlation, eliminating one of the two variables to reduce noise in the data\n",
    "df.drop(columns=['ASF'],inplace=True)\n",
    "print(df.head())\n",
    "\n",
    "le=LabelEncoder()\n",
    "df['Gender']=le.fit_transform(df['Gender'])\n",
    "df['Group']=le.fit_transform(df['Group'])\n",
    "df['MRI ID']=le.fit_transform(df['MRI ID'])\n",
    "print(df.head())\n",
    "\n",
    "inputs=df.drop(['Group'],axis=1)\n",
    "output=df.Group\n",
    "print(inputs)\n",
    "print(output)\n",
    "\n",
    "X_train,X_test,y_train,y_test=train_test_split(inputs,output,test_size=0.2,random_state=42)\n",
    "\n",
    "# Visualizing the distribution of 'Age' for each 'Group'\n",
    "sns.displot(data=df, x='Age', hue='Group', kind=\"kde\", palette='Set2');\n",
    "\n",
    "#Random Forest\n",
    "\n",
    "model=RandomForestClassifier(random_state=42)\n",
    "model.fit(X_train,y_train)\n",
    "y_pred=model.predict(X_test)\n",
    "\n",
    "print('Accuracy Score:',accuracy_score(y_test,y_pred))\n",
    "\n",
    "#K-nearest neighbor\n",
    "\n",
    "knn=KNeighborsClassifier(n_neighbors=19)\n",
    "knn.fit(X_train,y_train)\n",
    "y_pred=knn.predict(X_test)\n",
    "\n",
    "print('Accuracy Score:',accuracy_score(y_test,y_pred))\n",
    "\n",
    "#Logistic Regression\n",
    "\n",
    "lr=LogisticRegression()\n",
    "lr.fit(X_train,y_train)\n",
    "y_pred=lr.predict(X_test)\n",
    "\n",
    "print('Accuracy Score:',accuracy_score(y_test,y_pred))\n",
    "\n",
    "#SVM\n",
    "\n",
    "supv=SVC()\n",
    "supv.fit(X_train,y_train)\n",
    "y_pred=supv.predict(X_test)\n",
    "\n",
    "print('Accuracy Score:',accuracy_score(y_test,y_pred))\n",
    "\n",
    "#Naive Bayes\n",
    "\n",
    "nb=GaussianNB()\n",
    "nb.fit(X_train,y_train)\n",
    "y_pred=nb.predict(X_test)\n",
    "\n",
    "print('Accuracy Score:',accuracy_score(y_test,y_pred))\n",
    "\n",
    "#Decision Tree\n",
    "\n",
    "dt=tree.DecisionTreeClassifier()\n",
    "dt.fit(X_train,y_train)\n",
    "y_pred=dt.predict(X_test)\n",
    "\n",
    "print('Accuracy Score:',accuracy_score(y_test,y_pred))\n",
    "\n",
    "MRI_ID=int(input(\"Enter the MRI ID:\"))\n",
    "Gender=int(input(\"Enter the Gender(0/1):\"))\n",
    "Age=int(input(\"Enter the Age:\"))\n",
    "EDUC=int(input(\"Enter the Education:\"))\n",
    "SES=float(input(\"Enter the value of SES:\"))\n",
    "MMSE=float(input(\"Enter the value of MMSE:\"))\n",
    "CDR=float(input(\"Enter the  value of CDR:\"))\n",
    "eTIV=int(input(\"Enter the value of eTIV:\"))\n",
    "nWBV=float(input(\"Enter the value of nWBV:\"))\n",
    "\n",
    "res=model.predict([[MRI_ID,Gender,Age,EDUC,SES,MMSE,CDR,eTIV,nWBV]])\n",
    "print(res)\n"
   ]
  },
  {
   "cell_type": "code",
   "execution_count": null,
   "id": "117724b9",
   "metadata": {},
   "outputs": [
    {
     "data": {
      "text/plain": [
       "<bound method XGBClassifier.fit of XGBClassifier(base_score=None, booster=None, colsample_bylevel=0.7,\n",
       "              colsample_bynode=None, colsample_bytree=0.8,\n",
       "              enable_categorical=False, gamma=None, gpu_id=None,\n",
       "              importance_type=None, interaction_constraints=None,\n",
       "              learning_rate=None, learning_state=0.1, max_delta_step=None,\n",
       "              max_depth=2, min_child_weight=None, missing=nan,\n",
       "              monotone_constraints=None, n_estimators=50, n_jobs=None,\n",
       "              num_parallel_tree=None, predictor=None, random_state=None,\n",
       "              reg_alpha=None, reg_lambda=None, scale_pos_weight=None,\n",
       "              subsample=0.8, tree_method=None, validate_parameters=None,\n",
       "              verbosity=None)>"
      ]
     },
     "execution_count": 4,
     "metadata": {},
     "output_type": "execute_result"
    }
   ],
   "source": [
    "from xgboost import XGBClassifier\n",
    "model=XGBClassifier(max_depth=2,n_estimators=50,learning_state=0.1,subsample=0.8,colsample_bytree=0.8,colsample_bylevel=0.7)\n",
    "model.fit"
   ]
  },
  {
   "cell_type": "code",
   "execution_count": null,
   "id": "73c49de7",
   "metadata": {},
   "outputs": [
    {
     "name": "stderr",
     "output_type": "stream",
     "text": [
      "C:\\Users\\KAVYA\\anaconda3\\lib\\site-packages\\seaborn\\_decorators.py:36: FutureWarning: Pass the following variable as a keyword arg: x. From version 0.12, the only valid positional argument will be `data`, and passing other arguments without an explicit keyword will result in an error or misinterpretation.\n",
      "  warnings.warn(\n"
     ]
    },
    {
     "data": {
      "image/png": "[encoded data removed]",
      "text/plain": [
       "<Figure size 576x432 with 1 Axes>"
      ]
     },
     "metadata": {
      "needs_background": "light"
     },
     "output_type": "display_data"
    }
   ],
   "source": [
    "plt.figure(figsize=(8,6))\n",
    "sns.countplot(df.EDUC, data=df)\n",
    "plt.title(\"Classification Of EDUC\")\n",
    "plt.ylabel('Count')\n",
    "plt.show()"
   ]
  },
  {
   "cell_type": "code",
   "execution_count": null,
   "id": "efd706eb",
   "metadata": {},
   "outputs": [
    {
     "name": "stderr",
     "output_type": "stream",
     "text": [
      "C:\\Users\\KAVYA\\anaconda3\\lib\\site-packages\\seaborn\\_decorators.py:36: FutureWarning: Pass the following variable as a keyword arg: x. From version 0.12, the only valid positional argument will be `data`, and passing other arguments without an explicit keyword will result in an error or misinterpretation.\n",
      "  warnings.warn(\n"
     ]
    },
    {
     "data": {
      "image/png": "[encoded data removed]",
      "text/plain": [
       "<Figure size 576x432 with 1 Axes>"
      ]
     },
     "metadata": {
      "needs_background": "light"
     },
     "output_type": "display_data"
    }
   ],
   "source": [
    "plt.figure(figsize=(8,6))\n",
    "sns.countplot(df.Age, data=df)\n",
    "plt.title(\"Classification of Age\")\n",
    "plt.show()"
   ]
  },
  {
   "cell_type": "code",
   "execution_count": null,
   "id": "42e03d60",
   "metadata": {},
   "outputs": [
    {
     "name": "stderr",
     "output_type": "stream",
     "text": [
      "C:\\Users\\KAVYA\\anaconda3\\lib\\site-packages\\seaborn\\_decorators.py:36: FutureWarning: Pass the following variable as a keyword arg: x. From version 0.12, the only valid positional argument will be `data`, and passing other arguments without an explicit keyword will result in an error or misinterpretation.\n",
      "  warnings.warn(\n"
     ]
    },
    {
     "data": {
      "image/png": "[encoded data removed]",
      "text/plain": [
       "<Figure size 576x432 with 1 Axes>"
      ]
     },
     "metadata": {
      "needs_background": "light"
     },
     "output_type": "display_data"
    }
   ],
   "source": [
    "plt.figure(figsize=(8,6))\n",
    "sns.countplot(df.MMSE, data=df)\n",
    "plt.title(\"Classification of MMSE\")\n",
    "plt.show()"
   ]
  },
  {
   "cell_type": "code",
   "execution_count": null,
   "id": "c5089c26",
   "metadata": {},
   "outputs": [
    {
     "name": "stderr",
     "output_type": "stream",
     "text": [
      "C:\\Users\\KAVYA\\anaconda3\\lib\\site-packages\\seaborn\\_decorators.py:36: FutureWarning: Pass the following variable as a keyword arg: x. From version 0.12, the only valid positional argument will be `data`, and passing other arguments without an explicit keyword will result in an error or misinterpretation.\n",
      "  warnings.warn(\n"
     ]
    },
    {
     "data": {
      "image/png": "[encoded data removed]",
      "text/plain": [
       "<Figure size 576x432 with 1 Axes>"
      ]
     },
     "metadata": {
      "needs_background": "light"
     },
     "output_type": "display_data"
    }
   ],
   "source": [
    "plt.figure(figsize=(8,6))\n",
    "sns.countplot(df.CDR, data=df)\n",
    "plt.title(\"Classification of CDR\")\n",
    "plt.show()"
   ]
  },
  {
   "cell_type": "code",
   "execution_count": null,
   "id": "513225f8",
   "metadata": {},
   "outputs": [],
   "source": []
  }
 ],
 "metadata": {
  "kernelspec": {
   "display_name": "Python 3",
   "language": "python",
   "name": "python3"
  },
  "language_info": {
   "codemirror_mode": {
    "name": "ipython",
    "version": 3
   },
   "file_extension": ".py",
   "mimetype": "text/x-python",
   "name": "python",
   "nbconvert_exporter": "python",
   "pygments_lexer": "ipython3",
   "version": "3.10.7"
  }
 },
 "nbformat": 4,
 "nbformat_minor": 5
}
